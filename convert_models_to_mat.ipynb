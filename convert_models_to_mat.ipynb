{
 "metadata": {
  "name": "",
  "signature": "sha256:01ba9f3520aaf65b4f3ca9e20d43f92aeca1ac032705da738d199f76a039d0da"
 },
 "nbformat": 3,
 "nbformat_minor": 0,
 "worksheets": [
  {
   "cells": [
    {
     "cell_type": "heading",
     "level": 1,
     "metadata": {},
     "source": [
      "Load and Process SBML models"
     ]
    },
    {
     "cell_type": "markdown",
     "metadata": {},
     "source": [
      "This script will load the M models in the collection using [libSBML](http://sbml.org/Software/libSBML) through cobrapy, and convert them to the \"mat\" format used by the COBRA toolbox (which can also be read and written by cobrapy)."
     ]
    },
    {
     "cell_type": "code",
     "collapsed": false,
     "input": [
      "from os import listdir\n",
      "import warnings\n",
      "import re\n",
      "\n",
      "import sympy\n",
      "import scipy\n",
      "import scipy.io\n",
      "\n",
      "import cobra"
     ],
     "language": "python",
     "metadata": {},
     "outputs": [],
     "prompt_number": 1
    },
    {
     "cell_type": "markdown",
     "metadata": {},
     "source": [
      "In addition to the usual fields in the \"mat\" struct, we will also include S_num and S_denom, which are the numerator and denominator of the stoichiometric coefficients encoded as rational numbers."
     ]
    },
    {
     "cell_type": "code",
     "collapsed": false,
     "input": [
      "def convert_to_rational(value):\n",
      "    return sympy.Rational(\"%.15g\" % value)\n",
      "\n",
      "\n",
      "def construct_S_num_denom(model):\n",
      "    \"\"\"convert model to two S matrices\n",
      "\n",
      "    they encode the numerator and denominator of stoichiometric\n",
      "    coefficients encoded as rational numbers\n",
      "\n",
      "    \"\"\"\n",
      "    # intialize to 0\n",
      "    dimensions = (len(model.metabolites), len(model.reactions))\n",
      "    S_num = scipy.sparse.lil_matrix(dimensions)\n",
      "    S_denom = scipy.sparse.lil_matrix(dimensions)\n",
      "    # populate with stoichiometry\n",
      "    for i, r in enumerate(model.reactions):\n",
      "        for met, value in r._metabolites.iteritems():\n",
      "            rational_value = convert_to_rational(value)\n",
      "            num, denom = (rational_value.p, rational_value.q)\n",
      "            S_num[model.metabolites.index(met), i] = num\n",
      "            S_denom[model.metabolites.index(met), i] = denom\n",
      "    return S_num, S_denom"
     ],
     "language": "python",
     "metadata": {},
     "outputs": [],
     "prompt_number": 2
    },
    {
     "cell_type": "markdown",
     "metadata": {},
     "source": [
      "There is quite a bit of code below to attempt to automatically identify model objectives when none is set by searching for reactions with \"biomass\" in a reaction or metabolite id. For some models however, the objective had to be determined manually. Additionally, some of the models need their exchange reactions opened."
     ]
    },
    {
     "cell_type": "code",
     "collapsed": false,
     "input": [
      "curated_objectives = {\"VvuMBEL943\": \"R806\",\n",
      "                      \"iAI549\": \"BIO_CBDB1_DM_855\",\n",
      "                      \"mus_musculus\": \"BIO028\",\n",
      "                      \"iRsp1095\": \"RXN1391\",\n",
      "                      \"iLC915\": \"r1133\",\n",
      "                      \"PpaMBEL1254\": \"R01288\",\n",
      "                      \"AbyMBEL891\": \"R761\"}\n",
      "open_boundaries = {\"iRsp1095\", \"AORYZAE_COBRA\", \"iFF708\"}"
     ],
     "language": "python",
     "metadata": {},
     "outputs": [],
     "prompt_number": 3
    },
    {
     "cell_type": "code",
     "collapsed": false,
     "input": [
      "models = []\n",
      "biomass_re = re.compile(\"biomass\", re.IGNORECASE)\n",
      "for i in sorted(listdir(\".\")):\n",
      "    if not i.endswith(\".xml\"):\n",
      "        continue\n",
      "    with warnings.catch_warnings():\n",
      "        warnings.simplefilter(\"ignore\")\n",
      "        m = cobra.io.read_legacy_sbml(i)\n",
      "    m.id = m.description = i[:-4]\n",
      "    # Attempt to detect a biomass function when the model defines none\n",
      "    if len(m.reactions.query(lambda x: x > 0, \"objective_coefficient\")) == 0:\n",
      "        possible_objectives = m.reactions.query(biomass_re)\n",
      "        # In some cases, a biomass \"metabolite\" is produced, whose production\n",
      "        # should be the objective function.\n",
      "        possible_biomass_metabolites = m.metabolites.query(biomass_re)\n",
      "        if m.id in curated_objectives:\n",
      "            m.change_objective(curated_objectives[m.id])\n",
      "        elif len(possible_objectives) > 0:\n",
      "            print(\"autodetected objective reaction '%s' for model '%s'\" %\n",
      "                  (possible_objectives[0].id, m.id))\n",
      "            m.change_objective(possible_objectives[0])\n",
      "        elif len(possible_biomass_metabolites) == 1:\n",
      "            # In the case of a biomass metabolite, add a sink reaction for\n",
      "            # it and make that the objective.\n",
      "            biomass_met = possible_biomass_metabolites[0]\n",
      "            r = cobra.Reaction(\"added_biomass_sink\")\n",
      "            r.objective_coefficient = 1\n",
      "            r.add_metabolites({biomass_met: -1})\n",
      "            m.add_reaction(r)\n",
      "            print(\"autodetected biomass metabolite '%s' for model '%s'\"\n",
      "                  % (biomass_met.id, m.id))\n",
      "        else:\n",
      "            print(\"no objective found for \" + m.id)\n",
      "            continue\n",
      "    if m.id in open_boundaries:\n",
      "        for reaction in m.reactions:\n",
      "            if len(reaction.metabolites) == 1:\n",
      "                # Ensure we are not creating any new sinks\n",
      "                if reaction.metabolites.values()[0] > 0:\n",
      "                    reaction.upper_bound = max(reaction.upper_bound, 10)\n",
      "                else:\n",
      "                    reaction.lower_bound = min(reaction.lower_bound, -10)\n",
      "    models.append(m)"
     ],
     "language": "python",
     "metadata": {},
     "outputs": [
      {
       "output_type": "stream",
       "stream": "stdout",
       "text": [
        "autodetected biomass metabolite 'Biomass' for model 'AORYZAE_COBRA'\n",
        "autodetected objective reaction 'Biomass' for model 'PpuMBEL1071'"
       ]
      },
      {
       "output_type": "stream",
       "stream": "stdout",
       "text": [
        "\n",
        "autodetected objective reaction 'RXNBiomass' for model 'SpoMBEL1693'"
       ]
      },
      {
       "output_type": "stream",
       "stream": "stdout",
       "text": [
        "\n",
        "autodetected objective reaction 'BIOMASS_LM3' for model 'iAC560'"
       ]
      },
      {
       "output_type": "stream",
       "stream": "stdout",
       "text": [
        "\n",
        "autodetected biomass metabolite 'BIOMASS' for model 'iMA871'"
       ]
      },
      {
       "output_type": "stream",
       "stream": "stdout",
       "text": [
        "\n",
        "autodetected objective reaction 'Biomass_Chlamy_auto' for model 'iRC1080'"
       ]
      },
      {
       "output_type": "stream",
       "stream": "stdout",
       "text": [
        "\n",
        "autodetected objective reaction 'biomass_target' for model 'iSR432'"
       ]
      },
      {
       "output_type": "stream",
       "stream": "stdout",
       "text": [
        "\n",
        "autodetected objective reaction 'biomass' for model 'iSS884'"
       ]
      },
      {
       "output_type": "stream",
       "stream": "stdout",
       "text": [
        "\n"
       ]
      }
     ],
     "prompt_number": 4
    },
    {
     "cell_type": "markdown",
     "metadata": {},
     "source": [
      "Some models have erroneous formulas which are removed."
     ]
    },
    {
     "cell_type": "code",
     "collapsed": false,
     "input": [
      "for model in models:\n",
      "    for metabolite in model.metabolites:\n",
      "        if len(metabolite.formula.elements) == 0:\n",
      "            metabolite.formula = ''"
     ],
     "language": "python",
     "metadata": {},
     "outputs": [],
     "prompt_number": 5
    },
    {
     "cell_type": "markdown",
     "metadata": {},
     "source": [
      "Save all the models into a single mat file."
     ]
    },
    {
     "cell_type": "code",
     "collapsed": false,
     "input": [
      "all_model_dict = {}\n",
      "for model in models:\n",
      "    model_dict = cobra.io.mat.create_mat_dict(model)\n",
      "    model_dict[\"S_num\"], model_dict[\"S_denom\"] = construct_S_num_denom(model)\n",
      "    all_model_dict[model.id] = model_dict\n",
      "scipy.io.savemat(\"all_models.mat\", all_model_dict, oned_as=\"column\")"
     ],
     "language": "python",
     "metadata": {},
     "outputs": [],
     "prompt_number": 6
    }
   ],
   "metadata": {}
  }
 ]
}