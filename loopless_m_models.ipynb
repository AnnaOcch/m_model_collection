{
 "metadata": {
  "name": "",
  "signature": "sha256:5854021512709fb04186a1b55b7756838d630fb5e89217f523f85cefc0e9f456"
 },
 "nbformat": 3,
 "nbformat_minor": 0,
 "worksheets": [
  {
   "cells": [
    {
     "cell_type": "heading",
     "level": 1,
     "metadata": {},
     "source": [
      "Solving M Models without Loops"
     ]
    },
    {
     "cell_type": "markdown",
     "metadata": {},
     "source": [
      "For these correctly parsed M models, we are in fact able to compute a flux solution with no flux through thermodynamically infeasible loops. \n",
      "\n",
      "A type III loop is a cycle with no exchange of metabolites. If flux flows through this loop, it has no thermodynamic driving force. In most cases, a solution with flux through one of these loops can be collapsed into a solution with no flux through either reaction. However, if a flux state is desired which does not exhibit any of these loops, loopless FBA was developed by [Schellenberger et al.](http://dx.doi.org/10.1016/j.bpj.2010.12.3707)\n",
      "\n",
      "To compute this for all of these models, we use the loopless FBA [implementation](http://cobrapy.readthedocs.org/en/latest/loopless.html) in [cobrapy](http://opencobra.github.io/cobrapy/) (version 0.3.0 or later) and the [gurobi](http://www.gurobi.com) solver (version 6.0)."
     ]
    },
    {
     "cell_type": "code",
     "collapsed": false,
     "input": [
      "import warnings\n",
      "\n",
      "import scipy.io\n",
      "import pandas\n",
      "\n",
      "import cobra\n",
      "from cobra.flux_analysis.loopless import construct_loopless_model"
     ],
     "language": "python",
     "metadata": {},
     "outputs": [],
     "prompt_number": 1
    },
    {
     "cell_type": "markdown",
     "metadata": {},
     "source": [
      "Load in the models, as parsed by this [script](http://nbviewer.ipython.org/github/aebrahim/m_model_collection/blob/master/convert_models_to_mat.ipynb)."
     ]
    },
    {
     "cell_type": "code",
     "collapsed": false,
     "input": [
      "models = cobra.DictList()\n",
      "model_file = scipy.io.loadmat(\"all_models.mat\")\n",
      "for possible_name in model_file.keys():\n",
      "    if possible_name.startswith(\"_\"):\n",
      "        continue\n",
      "    with warnings.catch_warnings():\n",
      "        warnings.simplefilter(\"ignore\")\n",
      "        model = cobra.io.mat.from_mat_struct(model_file[possible_name], model_id=possible_name)\n",
      "    models.append(model)"
     ],
     "language": "python",
     "metadata": {},
     "outputs": [],
     "prompt_number": 2
    },
    {
     "cell_type": "markdown",
     "metadata": {},
     "source": [
      "Construct the loopless models, which impose additional constraints which prevent flux from going around one of these loops."
     ]
    },
    {
     "cell_type": "code",
     "collapsed": false,
     "input": [
      "loopless_models = cobra.DictList((construct_loopless_model(m) for m in models))"
     ],
     "language": "python",
     "metadata": {},
     "outputs": [],
     "prompt_number": 3
    },
    {
     "cell_type": "markdown",
     "metadata": {},
     "source": [
      "Solve the models using gurobi, allowing the branch-and-bound solver to proceed for two minutes."
     ]
    },
    {
     "cell_type": "code",
     "collapsed": false,
     "input": [
      "solutions = []\n",
      "for loopless_model in loopless_models:\n",
      "    solution = loopless_model.optimize(solver=\"gurobi\", time_limit=120)\n",
      "    solutions.append(solution)\n",
      "    print(\"solution status for %s is %s\" % (loopless_model.id, solution.status))"
     ],
     "language": "python",
     "metadata": {},
     "outputs": [
      {
       "output_type": "stream",
       "stream": "stdout",
       "text": [
        "solution status for iJN678 is optimal\n",
        "solution status for iLC915 is optimal"
       ]
      },
      {
       "output_type": "stream",
       "stream": "stdout",
       "text": [
        "\n",
        "solution status for iIB711 is optimal"
       ]
      },
      {
       "output_type": "stream",
       "stream": "stdout",
       "text": [
        "\n",
        "solution status for iNJ661m is optimal"
       ]
      },
      {
       "output_type": "stream",
       "stream": "stdout",
       "text": [
        "\n",
        "solution status for iJO1366 is optimal"
       ]
      },
      {
       "output_type": "stream",
       "stream": "stdout",
       "text": [
        "\n",
        "solution status for textbook is optimal"
       ]
      },
      {
       "output_type": "stream",
       "stream": "stdout",
       "text": [
        "\n",
        "solution status for iAF1260 is optimal"
       ]
      },
      {
       "output_type": "stream",
       "stream": "stdout",
       "text": [
        "\n",
        "solution status for iSyn669 is optimal"
       ]
      },
      {
       "output_type": "stream",
       "stream": "stdout",
       "text": [
        "\n",
        "solution status for STM_v1.0 is optimal"
       ]
      },
      {
       "output_type": "stream",
       "stream": "stdout",
       "text": [
        "\n",
        "solution status for SpoMBEL1693 is optimal"
       ]
      },
      {
       "output_type": "stream",
       "stream": "stdout",
       "text": [
        "\n",
        "solution status for iBsu1103 is optimal"
       ]
      },
      {
       "output_type": "stream",
       "stream": "stdout",
       "text": [
        "\n",
        "solution status for iND750 is optimal"
       ]
      },
      {
       "output_type": "stream",
       "stream": "stdout",
       "text": [
        "\n",
        "solution status for iKF1028 is optimal"
       ]
      },
      {
       "output_type": "stream",
       "stream": "stdout",
       "text": [
        "\n",
        "solution status for iPS189_fixed is optimal"
       ]
      },
      {
       "output_type": "stream",
       "stream": "stdout",
       "text": [
        "\n",
        "solution status for iAN840m is optimal"
       ]
      },
      {
       "output_type": "stream",
       "stream": "stdout",
       "text": [
        "\n",
        "solution status for iJR904 is optimal"
       ]
      },
      {
       "output_type": "stream",
       "stream": "stdout",
       "text": [
        "\n",
        "solution status for iRS1597 is optimal"
       ]
      },
      {
       "output_type": "stream",
       "stream": "stdout",
       "text": [
        "\n",
        "solution status for iCA1273 is optimal"
       ]
      },
      {
       "output_type": "stream",
       "stream": "stdout",
       "text": [
        "\n",
        "solution status for iSR432 is optimal"
       ]
      },
      {
       "output_type": "stream",
       "stream": "stdout",
       "text": [
        "\n",
        "solution status for iMM904 is optimal"
       ]
      },
      {
       "output_type": "stream",
       "stream": "stdout",
       "text": [
        "\n",
        "solution status for iAI549 is optimal"
       ]
      },
      {
       "output_type": "stream",
       "stream": "stdout",
       "text": [
        "\n",
        "solution status for VvuMBEL943 is optimal"
       ]
      },
      {
       "output_type": "stream",
       "stream": "stdout",
       "text": [
        "\n",
        "solution status for iRS1563 is optimal"
       ]
      },
      {
       "output_type": "stream",
       "stream": "stdout",
       "text": [
        "\n",
        "solution status for PpaMBEL1254 is optimal"
       ]
      },
      {
       "output_type": "stream",
       "stream": "stdout",
       "text": [
        "\n",
        "solution status for iCB925 is optimal"
       ]
      },
      {
       "output_type": "stream",
       "stream": "stdout",
       "text": [
        "\n",
        "solution status for iSS884 is optimal"
       ]
      },
      {
       "output_type": "stream",
       "stream": "stdout",
       "text": [
        "\n",
        "solution status for iJN746 is optimal"
       ]
      },
      {
       "output_type": "stream",
       "stream": "stdout",
       "text": [
        "\n",
        "solution status for iAF692 is optimal"
       ]
      },
      {
       "output_type": "stream",
       "stream": "stdout",
       "text": [
        "\n",
        "solution status for T_Maritima is optimal"
       ]
      },
      {
       "output_type": "stream",
       "stream": "stdout",
       "text": [
        "\n",
        "solution status for PpuMBEL1071 is optimal"
       ]
      },
      {
       "output_type": "stream",
       "stream": "stdout",
       "text": [
        "\n",
        "solution status for iJP815 is optimal"
       ]
      },
      {
       "output_type": "stream",
       "stream": "stdout",
       "text": [
        "\n",
        "solution status for iAC560 is optimal"
       ]
      },
      {
       "output_type": "stream",
       "stream": "stdout",
       "text": [
        "\n",
        "solution status for mus_musculus is optimal"
       ]
      },
      {
       "output_type": "stream",
       "stream": "stdout",
       "text": [
        "\n",
        "solution status for S_coilicolor_fixed is optimal"
       ]
      },
      {
       "output_type": "stream",
       "stream": "stdout",
       "text": [
        "\n",
        "solution status for iIT341 is optimal"
       ]
      },
      {
       "output_type": "stream",
       "stream": "stdout",
       "text": [
        "\n",
        "solution status for iMB745 is optimal"
       ]
      },
      {
       "output_type": "stream",
       "stream": "stdout",
       "text": [
        "\n",
        "solution status for iMM1415 is optimal"
       ]
      },
      {
       "output_type": "stream",
       "stream": "stdout",
       "text": [
        "\n",
        "solution status for iMA871 is optimal"
       ]
      },
      {
       "output_type": "stream",
       "stream": "stdout",
       "text": [
        "\n",
        "solution status for AbyMBEL891 is optimal"
       ]
      },
      {
       "output_type": "stream",
       "stream": "stdout",
       "text": [
        "\n",
        "solution status for AraGEM is optimal"
       ]
      },
      {
       "output_type": "stream",
       "stream": "stdout",
       "text": [
        "\n",
        "solution status for iFF708 is optimal"
       ]
      },
      {
       "output_type": "stream",
       "stream": "stdout",
       "text": [
        "\n",
        "solution status for iRC1080 is optimal"
       ]
      },
      {
       "output_type": "stream",
       "stream": "stdout",
       "text": [
        "\n",
        "solution status for iNJ661 is optimal"
       ]
      },
      {
       "output_type": "stream",
       "stream": "stdout",
       "text": [
        "\n",
        "solution status for iYL1228 is optimal"
       ]
      },
      {
       "output_type": "stream",
       "stream": "stdout",
       "text": [
        "\n",
        "solution status for iCac802 is optimal"
       ]
      },
      {
       "output_type": "stream",
       "stream": "stdout",
       "text": [
        "\n",
        "solution status for iTH366 is optimal"
       ]
      },
      {
       "output_type": "stream",
       "stream": "stdout",
       "text": [
        "\n",
        "solution status for iVS941_fixed is optimal"
       ]
      },
      {
       "output_type": "stream",
       "stream": "stdout",
       "text": [
        "\n",
        "solution status for iMO1056 is optimal"
       ]
      },
      {
       "output_type": "stream",
       "stream": "stdout",
       "text": [
        "\n",
        "solution status for iSB619 is optimal"
       ]
      },
      {
       "output_type": "stream",
       "stream": "stdout",
       "text": [
        "\n",
        "solution status for AORYZAE_COBRA is optimal"
       ]
      },
      {
       "output_type": "stream",
       "stream": "stdout",
       "text": [
        "\n",
        "solution status for iRsp1095 is optimal"
       ]
      },
      {
       "output_type": "stream",
       "stream": "stdout",
       "text": [
        "\n"
       ]
      }
     ],
     "prompt_number": 4
    },
    {
     "cell_type": "markdown",
     "metadata": {},
     "source": [
      "Format the results as a table. This demonstrates these models have a feasible flux state which produce biomass without using these loops."
     ]
    },
    {
     "cell_type": "code",
     "collapsed": false,
     "input": [
      "results = pandas.DataFrame.from_dict({\n",
      "    model.id: {\"loopless\": solution.f if solution.status != \"infeasible\" else 0,\n",
      "               \"FBA\": model.optimize().f}\n",
      "    for model, solution in zip(models, solutions)\n",
      "})\n",
      "results.T"
     ],
     "language": "python",
     "metadata": {},
     "outputs": [
      {
       "html": [
        "<div style=\"max-height:1000px;max-width:1500px;overflow:auto;\">\n",
        "<table border=\"1\" class=\"dataframe\">\n",
        "  <thead>\n",
        "    <tr style=\"text-align: right;\">\n",
        "      <th></th>\n",
        "      <th>FBA</th>\n",
        "      <th>loopless</th>\n",
        "    </tr>\n",
        "  </thead>\n",
        "  <tbody>\n",
        "    <tr>\n",
        "      <th>AORYZAE_COBRA</th>\n",
        "      <td>    25.682402</td>\n",
        "      <td>    25.682402</td>\n",
        "    </tr>\n",
        "    <tr>\n",
        "      <th>AbyMBEL891</th>\n",
        "      <td>   119.233012</td>\n",
        "      <td>   115.359718</td>\n",
        "    </tr>\n",
        "    <tr>\n",
        "      <th>AraGEM</th>\n",
        "      <td>    10.000000</td>\n",
        "      <td>    10.000000</td>\n",
        "    </tr>\n",
        "    <tr>\n",
        "      <th>PpaMBEL1254</th>\n",
        "      <td>    78.700594</td>\n",
        "      <td>    78.694551</td>\n",
        "    </tr>\n",
        "    <tr>\n",
        "      <th>PpuMBEL1071</th>\n",
        "      <td>   132.365353</td>\n",
        "      <td>   132.365353</td>\n",
        "    </tr>\n",
        "    <tr>\n",
        "      <th>STM_v1.0</th>\n",
        "      <td>     0.477834</td>\n",
        "      <td>     0.477475</td>\n",
        "    </tr>\n",
        "    <tr>\n",
        "      <th>S_coilicolor_fixed</th>\n",
        "      <td>   860.088835</td>\n",
        "      <td>   860.088835</td>\n",
        "    </tr>\n",
        "    <tr>\n",
        "      <th>SpoMBEL1693</th>\n",
        "      <td>    63.785658</td>\n",
        "      <td>    63.785658</td>\n",
        "    </tr>\n",
        "    <tr>\n",
        "      <th>T_Maritima</th>\n",
        "      <td>     0.359469</td>\n",
        "      <td>     0.359469</td>\n",
        "    </tr>\n",
        "    <tr>\n",
        "      <th>VvuMBEL943</th>\n",
        "      <td>    96.402322</td>\n",
        "      <td>    96.402322</td>\n",
        "    </tr>\n",
        "    <tr>\n",
        "      <th>iAC560</th>\n",
        "      <td>     4.042612</td>\n",
        "      <td>     4.042543</td>\n",
        "    </tr>\n",
        "    <tr>\n",
        "      <th>iAF1260</th>\n",
        "      <td>     0.736701</td>\n",
        "      <td>     0.728690</td>\n",
        "    </tr>\n",
        "    <tr>\n",
        "      <th>iAF692</th>\n",
        "      <td>     0.027250</td>\n",
        "      <td>     0.027250</td>\n",
        "    </tr>\n",
        "    <tr>\n",
        "      <th>iAI549</th>\n",
        "      <td>    84.174193</td>\n",
        "      <td>    84.174100</td>\n",
        "    </tr>\n",
        "    <tr>\n",
        "      <th>iAN840m</th>\n",
        "      <td>     0.340136</td>\n",
        "      <td>     0.340136</td>\n",
        "    </tr>\n",
        "    <tr>\n",
        "      <th>iBsu1103</th>\n",
        "      <td>  1229.657244</td>\n",
        "      <td>  1229.657244</td>\n",
        "    </tr>\n",
        "    <tr>\n",
        "      <th>iCA1273</th>\n",
        "      <td>     0.740242</td>\n",
        "      <td>     0.740240</td>\n",
        "    </tr>\n",
        "    <tr>\n",
        "      <th>iCB925</th>\n",
        "      <td>     0.119428</td>\n",
        "      <td>     0.118840</td>\n",
        "    </tr>\n",
        "    <tr>\n",
        "      <th>iCac802</th>\n",
        "      <td>     0.209597</td>\n",
        "      <td>     0.209597</td>\n",
        "    </tr>\n",
        "    <tr>\n",
        "      <th>iFF708</th>\n",
        "      <td>    14.917106</td>\n",
        "      <td>    14.917106</td>\n",
        "    </tr>\n",
        "    <tr>\n",
        "      <th>iIB711</th>\n",
        "      <td>    84.688415</td>\n",
        "      <td>    84.688415</td>\n",
        "    </tr>\n",
        "    <tr>\n",
        "      <th>iIT341</th>\n",
        "      <td>     0.692813</td>\n",
        "      <td>     0.692813</td>\n",
        "    </tr>\n",
        "    <tr>\n",
        "      <th>iJN678</th>\n",
        "      <td>     0.063150</td>\n",
        "      <td>     0.063150</td>\n",
        "    </tr>\n",
        "    <tr>\n",
        "      <th>iJN746</th>\n",
        "      <td>     3.679412</td>\n",
        "      <td>     3.679412</td>\n",
        "    </tr>\n",
        "    <tr>\n",
        "      <th>iJO1366</th>\n",
        "      <td>     0.982372</td>\n",
        "      <td>     0.982298</td>\n",
        "    </tr>\n",
        "    <tr>\n",
        "      <th>iJP815</th>\n",
        "      <td>     0.861512</td>\n",
        "      <td>     0.861512</td>\n",
        "    </tr>\n",
        "    <tr>\n",
        "      <th>iJR904</th>\n",
        "      <td>     0.921948</td>\n",
        "      <td>     0.898181</td>\n",
        "    </tr>\n",
        "    <tr>\n",
        "      <th>iKF1028</th>\n",
        "      <td>     0.517807</td>\n",
        "      <td>     0.517807</td>\n",
        "    </tr>\n",
        "    <tr>\n",
        "      <th>iLC915</th>\n",
        "      <td>    79.021232</td>\n",
        "      <td>    79.021232</td>\n",
        "    </tr>\n",
        "    <tr>\n",
        "      <th>iMA871</th>\n",
        "      <td>    27.792976</td>\n",
        "      <td>    27.792976</td>\n",
        "    </tr>\n",
        "    <tr>\n",
        "      <th>iMB745</th>\n",
        "      <td>     0.030942</td>\n",
        "      <td>     0.030942</td>\n",
        "    </tr>\n",
        "    <tr>\n",
        "      <th>iMM1415</th>\n",
        "      <td>     1.363428</td>\n",
        "      <td>     1.349048</td>\n",
        "    </tr>\n",
        "    <tr>\n",
        "      <th>iMM904</th>\n",
        "      <td>     0.287866</td>\n",
        "      <td>     0.287866</td>\n",
        "    </tr>\n",
        "    <tr>\n",
        "      <th>iMO1056</th>\n",
        "      <td>     1.047929</td>\n",
        "      <td>     1.047929</td>\n",
        "    </tr>\n",
        "    <tr>\n",
        "      <th>iND750</th>\n",
        "      <td>     0.097323</td>\n",
        "      <td>     0.097314</td>\n",
        "    </tr>\n",
        "    <tr>\n",
        "      <th>iNJ661</th>\n",
        "      <td>     0.052199</td>\n",
        "      <td>     0.052199</td>\n",
        "    </tr>\n",
        "    <tr>\n",
        "      <th>iNJ661m</th>\n",
        "      <td>     0.052199</td>\n",
        "      <td>     0.052199</td>\n",
        "    </tr>\n",
        "    <tr>\n",
        "      <th>iPS189_fixed</th>\n",
        "      <td>     2.238961</td>\n",
        "      <td>     2.238961</td>\n",
        "    </tr>\n",
        "    <tr>\n",
        "      <th>iRC1080</th>\n",
        "      <td>     6.156851</td>\n",
        "      <td>     6.156851</td>\n",
        "    </tr>\n",
        "    <tr>\n",
        "      <th>iRS1563</th>\n",
        "      <td>     0.079962</td>\n",
        "      <td>     0.079959</td>\n",
        "    </tr>\n",
        "    <tr>\n",
        "      <th>iRS1597</th>\n",
        "      <td>     8.969346</td>\n",
        "      <td>     8.969346</td>\n",
        "    </tr>\n",
        "    <tr>\n",
        "      <th>iRsp1095</th>\n",
        "      <td>     9.686899</td>\n",
        "      <td>     9.686899</td>\n",
        "    </tr>\n",
        "    <tr>\n",
        "      <th>iSB619</th>\n",
        "      <td>     0.158050</td>\n",
        "      <td>     0.158050</td>\n",
        "    </tr>\n",
        "    <tr>\n",
        "      <th>iSR432</th>\n",
        "      <td>    11.482570</td>\n",
        "      <td>    11.482570</td>\n",
        "    </tr>\n",
        "    <tr>\n",
        "      <th>iSS884</th>\n",
        "      <td>    70.359286</td>\n",
        "      <td>    70.359286</td>\n",
        "    </tr>\n",
        "    <tr>\n",
        "      <th>iSyn669</th>\n",
        "      <td>     0.179090</td>\n",
        "      <td>     0.179090</td>\n",
        "    </tr>\n",
        "    <tr>\n",
        "      <th>iTH366</th>\n",
        "      <td> 27890.888638</td>\n",
        "      <td> 27890.888638</td>\n",
        "    </tr>\n",
        "    <tr>\n",
        "      <th>iVS941_fixed</th>\n",
        "      <td>     0.523385</td>\n",
        "      <td>     0.523385</td>\n",
        "    </tr>\n",
        "    <tr>\n",
        "      <th>iYL1228</th>\n",
        "      <td>     1.042637</td>\n",
        "      <td>     1.042637</td>\n",
        "    </tr>\n",
        "    <tr>\n",
        "      <th>mus_musculus</th>\n",
        "      <td>   129.100556</td>\n",
        "      <td>   129.100556</td>\n",
        "    </tr>\n",
        "    <tr>\n",
        "      <th>textbook</th>\n",
        "      <td>     0.873922</td>\n",
        "      <td>     0.873922</td>\n",
        "    </tr>\n",
        "  </tbody>\n",
        "</table>\n",
        "</div>"
       ],
       "metadata": {},
       "output_type": "pyout",
       "prompt_number": 5,
       "text": [
        "                             FBA      loopless\n",
        "AORYZAE_COBRA          25.682402     25.682402\n",
        "AbyMBEL891            119.233012    115.359718\n",
        "AraGEM                 10.000000     10.000000\n",
        "PpaMBEL1254            78.700594     78.694551\n",
        "PpuMBEL1071           132.365353    132.365353\n",
        "STM_v1.0                0.477834      0.477475\n",
        "S_coilicolor_fixed    860.088835    860.088835\n",
        "SpoMBEL1693            63.785658     63.785658\n",
        "T_Maritima              0.359469      0.359469\n",
        "VvuMBEL943             96.402322     96.402322\n",
        "iAC560                  4.042612      4.042543\n",
        "iAF1260                 0.736701      0.728690\n",
        "iAF692                  0.027250      0.027250\n",
        "iAI549                 84.174193     84.174100\n",
        "iAN840m                 0.340136      0.340136\n",
        "iBsu1103             1229.657244   1229.657244\n",
        "iCA1273                 0.740242      0.740240\n",
        "iCB925                  0.119428      0.118840\n",
        "iCac802                 0.209597      0.209597\n",
        "iFF708                 14.917106     14.917106\n",
        "iIB711                 84.688415     84.688415\n",
        "iIT341                  0.692813      0.692813\n",
        "iJN678                  0.063150      0.063150\n",
        "iJN746                  3.679412      3.679412\n",
        "iJO1366                 0.982372      0.982298\n",
        "iJP815                  0.861512      0.861512\n",
        "iJR904                  0.921948      0.898181\n",
        "iKF1028                 0.517807      0.517807\n",
        "iLC915                 79.021232     79.021232\n",
        "iMA871                 27.792976     27.792976\n",
        "iMB745                  0.030942      0.030942\n",
        "iMM1415                 1.363428      1.349048\n",
        "iMM904                  0.287866      0.287866\n",
        "iMO1056                 1.047929      1.047929\n",
        "iND750                  0.097323      0.097314\n",
        "iNJ661                  0.052199      0.052199\n",
        "iNJ661m                 0.052199      0.052199\n",
        "iPS189_fixed            2.238961      2.238961\n",
        "iRC1080                 6.156851      6.156851\n",
        "iRS1563                 0.079962      0.079959\n",
        "iRS1597                 8.969346      8.969346\n",
        "iRsp1095                9.686899      9.686899\n",
        "iSB619                  0.158050      0.158050\n",
        "iSR432                 11.482570     11.482570\n",
        "iSS884                 70.359286     70.359286\n",
        "iSyn669                 0.179090      0.179090\n",
        "iTH366              27890.888638  27890.888638\n",
        "iVS941_fixed            0.523385      0.523385\n",
        "iYL1228                 1.042637      1.042637\n",
        "mus_musculus          129.100556    129.100556\n",
        "textbook                0.873922      0.873922"
       ]
      }
     ],
     "prompt_number": 5
    }
   ],
   "metadata": {}
  }
 ]
}